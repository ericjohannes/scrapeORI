{
 "cells": [
  {
   "cell_type": "code",
   "execution_count": 19,
   "metadata": {
    "collapsed": true
   },
   "outputs": [],
   "source": [
    "import pandas as pd\n",
    "import urllib.request\n",
    "from bs4 import BeautifulSoup\n",
    "import re"
   ]
  },
  {
   "cell_type": "code",
   "execution_count": 58,
   "metadata": {},
   "outputs": [],
   "source": [
    "ori_df = pd.DataFrame(columns=['department','ori7','ori9'])"
   ]
  },
  {
   "cell_type": "code",
   "execution_count": 23,
   "metadata": {},
   "outputs": [],
   "source": [
    "def gethtml(newurl):\n",
    "    # parse the html using beautiful soup and store in variable `soup`\n",
    "    fp = urllib.request.urlopen(newurl)\n",
    "    mybytes = fp.read()\n",
    "\n",
    "    mystr = mybytes.decode(\"utf8\")\n",
    "    fp.close()\n",
    "\n",
    "    #print(mystr)\n",
    "    # soup = BeautifulSoup(mystr, 'html.parser')\n",
    "    htmldata = BeautifulSoup(mystr, 'html.parser')\n",
    "    return htmldata"
   ]
  },
  {
   "cell_type": "code",
   "execution_count": 41,
   "metadata": {
    "collapsed": true
   },
   "outputs": [],
   "source": [
    "def append_to_df (htmldata):\n",
    "    \n",
    "    # data_df is ori_df\n",
    "    html_df = pd.DataFrame(columns=['department','ori7','ori9'])\n",
    "    #for link in soup.find_all('pre'):\n",
    "    for link in htmldata.find_all('pre'):\n",
    "        lines = link.contents[0].split(\"\\n\")\n",
    "        for line in lines:\n",
    "            pieces = re.match('((\\S+\\s)+\\S+)\\s+(\\w+)\\s+(\\w+)',line)\n",
    "            if pieces:\n",
    "                html_df = html_df.append({'department': pieces.group(1),'ori7':pieces.group(3),'ori9':pieces.group(4)}, ignore_index=True)\n",
    "                \n",
    "    return html_df"
   ]
  },
  {
   "cell_type": "code",
   "execution_count": 59,
   "metadata": {},
   "outputs": [],
   "source": [
    "for num in range(1,57):\n",
    "    # there is no page 7 and the pages go up to 56\n",
    "    if num == 7:\n",
    "        continue\n",
    "    else:\n",
    "        url = \"https://www.icpsr.umich.edu/files/NACJD/ORIs/\" \\\n",
    "          + str(num).zfill(2) + \"oris.html\"\n",
    "        \n",
    "        # get a page of data\n",
    "        newsoup = gethtml(url)\n",
    "    \n",
    "        new_df = append_to_df(newsoup)\n",
    "        ori_df = ori_df.append(new_df, ignore_index=True)"
   ]
  },
  {
   "cell_type": "code",
   "execution_count": 62,
   "metadata": {},
   "outputs": [
    {
     "data": {
      "text/plain": [
       "23454"
      ]
     },
     "execution_count": 62,
     "metadata": {},
     "output_type": "execute_result"
    }
   ],
   "source": [
    "# check what we have\n",
    "len(ori_df)"
   ]
  },
  {
   "cell_type": "code",
   "execution_count": 61,
   "metadata": {},
   "outputs": [],
   "source": [
    "ori_df.to_csv(\"scraped_ori.csv\")\n"
   ]
  }
 ],
 "metadata": {
  "kernelspec": {
   "display_name": "Python 3",
   "language": "python",
   "name": "python3"
  },
  "language_info": {
   "codemirror_mode": {
    "name": "ipython",
    "version": 3
   },
   "file_extension": ".py",
   "mimetype": "text/x-python",
   "name": "python",
   "nbconvert_exporter": "python",
   "pygments_lexer": "ipython3",
   "version": "3.6.3"
  }
 },
 "nbformat": 4,
 "nbformat_minor": 2
}
